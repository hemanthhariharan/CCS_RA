{
 "cells": [
  {
   "cell_type": "markdown",
   "id": "528a13a4",
   "metadata": {
    "id": "528a13a4",
    "jp-MarkdownHeadingCollapsed": true
   },
   "source": [
    "### Current API supports all types of permeability map in isotropic 2d cases, the input/output are consistent with what you see on CCSNet.ai. You can update 'type_of_permeability_map' of input_arguments dict to try different types of permeability map\n",
    "- type_of_permeability_map = Synthetic Heterogeneous, API only uses parameters in the input_arguments as input\n",
    "- type_of_permeability_map = Homogeneous, side bar input and 'permeability' are used, main page input are not used\n",
    "- type_of_permeability_map = User Upload, side bar input is used, you also need to upload a file"
   ]
  },
  {
   "cell_type": "code",
   "execution_count": 1,
   "id": "0b148b22",
   "metadata": {
    "id": "0b148b22"
   },
   "outputs": [],
   "source": [
    "import requests\n",
    "import numpy as np\n",
    "import plotly.graph_objects as go\n",
    "import matplotlib.pyplot as plt\n",
    "import json\n",
    "import pandas as pd\n",
    "import random\n",
    "\n",
    "pd.reset_option('all')"
   ]
  },
  {
   "cell_type": "code",
   "execution_count": 2,
   "id": "68e55c0d",
   "metadata": {
    "id": "68e55c0d"
   },
   "outputs": [],
   "source": [
    "url = 'http://20.119.44.37/isotropic_2d'"
   ]
  },
  {
   "cell_type": "markdown",
   "id": "e210a19f",
   "metadata": {
    "id": "e210a19f",
    "jp-MarkdownHeadingCollapsed": true
   },
   "source": [
    "# Synthetic Heterogeneous"
   ]
  },
  {
   "cell_type": "markdown",
   "id": "38743360-21a7-462f-bfa7-dad94872fc5c",
   "metadata": {
    "jp-MarkdownHeadingCollapsed": true
   },
   "source": [
    "## Starter code"
   ]
  },
  {
   "cell_type": "code",
   "execution_count": 6,
   "id": "b787fee5",
   "metadata": {
    "id": "b787fee5"
   },
   "outputs": [],
   "source": [
    "thickness = int(200 / 2.08333)\n",
    "\n",
    "dx = np.cumsum(3.5938 * np.power(1.035012, range(200))) + 0.1\n",
    "dx = np.insert(dx, 0, 0.1)\n",
    "y = np.linspace(0, thickness * 2.0833, num=thickness)"
   ]
  },
  {
   "cell_type": "markdown",
   "id": "3c9ce5f7-6d1e-4804-8ec6-dbb29ef961c4",
   "metadata": {
    "jp-MarkdownHeadingCollapsed": true
   },
   "source": [
    "## Random sampling"
   ]
  },
  {
   "cell_type": "code",
   "execution_count": 7,
   "id": "f8bc2ffe-782d-4e70-a9eb-f6073c65f4af",
   "metadata": {},
   "outputs": [],
   "source": [
    "# All depths are measured from the surface of the earth\n",
    "\n",
    "water_tab = 10 # water table in m\n",
    "\n",
    "t_surf = 15 # average surface temperature\n",
    "\n",
    "g = 9.8 # acceleration due to gravity in m/s2\n",
    "\n",
    "# Original run\n",
    "\n",
    "rho_water = 1000 # density of water in kg/m3\n",
    "\n",
    "rho_brines = [1020] # np.linspace(1020, 1100, 5) # brine densities in kg/m3 \n",
    "\n",
    "inj_rates = [1] # [2] # np.linspace(0.25, 2, 8) # injection rates in MT/year \n",
    "\n",
    "geo_grads= [25] # geothermal gradient in oC/km \n",
    "\n",
    "depths_bottom_usdw = [100] # np.linspace(100, 350, 6) # depth to bottom of USDW in m \n",
    "\n",
    "depths_top_res = [1500] # [1000] # np.linspace(800, 1800, 11) # depth to top of reservoir in m\n",
    "\n",
    "thicks_res = [100] # np.linspace(50, 200, 7) # thickness of reservoir in m\n",
    "\n",
    "perms_res = [500] # np.array([10, 50, 100, 250, 500, 1000]) # np.linspace(800, 850, 2) # permeability of reservoir in mD\n",
    "\n",
    "# std_dev_to_perm_res_ratios = np.linspace(0, 2, 11) # [random.uniform(0, 0.5)]"
   ]
  },
  {
   "cell_type": "code",
   "execution_count": 8,
   "id": "af471fba",
   "metadata": {
    "id": "af471fba"
   },
   "outputs": [
    {
     "name": "stdout",
     "output_type": "stream",
     "text": [
      "Total iterations 5\n"
     ]
    },
    {
     "data": {
      "text/html": [
       "<div>\n",
       "<style scoped>\n",
       "    .dataframe tbody tr th:only-of-type {\n",
       "        vertical-align: middle;\n",
       "    }\n",
       "\n",
       "    .dataframe tbody tr th {\n",
       "        vertical-align: top;\n",
       "    }\n",
       "\n",
       "    .dataframe thead th {\n",
       "        text-align: right;\n",
       "    }\n",
       "</style>\n",
       "<table border=\"1\" class=\"dataframe\">\n",
       "  <thead>\n",
       "    <tr style=\"text-align: right;\">\n",
       "      <th></th>\n",
       "      <th>rho_brine</th>\n",
       "      <th>inj_rate</th>\n",
       "      <th>geo_grad</th>\n",
       "      <th>depth_bottom_usdw</th>\n",
       "      <th>depth_top_res</th>\n",
       "      <th>thick_res</th>\n",
       "      <th>perm_res</th>\n",
       "      <th>p_crit</th>\n",
       "      <th>plume_rad</th>\n",
       "      <th>pressure_front_rad</th>\n",
       "      <th>std_dev_to_perm_res_ratio</th>\n",
       "      <th>vertical_correlation</th>\n",
       "      <th>lateral_correlation</th>\n",
       "      <th>random_seed</th>\n",
       "    </tr>\n",
       "  </thead>\n",
       "  <tbody>\n",
       "    <tr>\n",
       "      <th>0</th>\n",
       "      <td>1020</td>\n",
       "      <td>1</td>\n",
       "      <td>25</td>\n",
       "      <td>100</td>\n",
       "      <td>1500</td>\n",
       "      <td>100</td>\n",
       "      <td>500</td>\n",
       "      <td>2.744</td>\n",
       "      <td>3575.838906</td>\n",
       "      <td>764.318975</td>\n",
       "      <td>1</td>\n",
       "      <td>8</td>\n",
       "      <td>84</td>\n",
       "      <td>11507</td>\n",
       "    </tr>\n",
       "    <tr>\n",
       "      <th>1</th>\n",
       "      <td>1020</td>\n",
       "      <td>1</td>\n",
       "      <td>25</td>\n",
       "      <td>100</td>\n",
       "      <td>1500</td>\n",
       "      <td>100</td>\n",
       "      <td>500</td>\n",
       "      <td>2.744</td>\n",
       "      <td>3704.626476</td>\n",
       "      <td>652.841865</td>\n",
       "      <td>1</td>\n",
       "      <td>8</td>\n",
       "      <td>315</td>\n",
       "      <td>11199</td>\n",
       "    </tr>\n",
       "    <tr>\n",
       "      <th>2</th>\n",
       "      <td>1020</td>\n",
       "      <td>1</td>\n",
       "      <td>25</td>\n",
       "      <td>100</td>\n",
       "      <td>1500</td>\n",
       "      <td>100</td>\n",
       "      <td>500</td>\n",
       "      <td>2.744</td>\n",
       "      <td>3837.923157</td>\n",
       "      <td>1350.007011</td>\n",
       "      <td>1</td>\n",
       "      <td>9</td>\n",
       "      <td>21</td>\n",
       "      <td>11867</td>\n",
       "    </tr>\n",
       "    <tr>\n",
       "      <th>3</th>\n",
       "      <td>1020</td>\n",
       "      <td>1</td>\n",
       "      <td>25</td>\n",
       "      <td>100</td>\n",
       "      <td>1500</td>\n",
       "      <td>100</td>\n",
       "      <td>500</td>\n",
       "      <td>2.744</td>\n",
       "      <td>3102.805433</td>\n",
       "      <td>1120.393950</td>\n",
       "      <td>1</td>\n",
       "      <td>7</td>\n",
       "      <td>270</td>\n",
       "      <td>5068</td>\n",
       "    </tr>\n",
       "    <tr>\n",
       "      <th>4</th>\n",
       "      <td>1020</td>\n",
       "      <td>1</td>\n",
       "      <td>25</td>\n",
       "      <td>100</td>\n",
       "      <td>1500</td>\n",
       "      <td>100</td>\n",
       "      <td>500</td>\n",
       "      <td>2.744</td>\n",
       "      <td>3704.626476</td>\n",
       "      <td>679.289463</td>\n",
       "      <td>1</td>\n",
       "      <td>6</td>\n",
       "      <td>35</td>\n",
       "      <td>4878</td>\n",
       "    </tr>\n",
       "  </tbody>\n",
       "</table>\n",
       "</div>"
      ],
      "text/plain": [
       "   rho_brine  inj_rate  geo_grad  depth_bottom_usdw  depth_top_res  thick_res   \n",
       "0       1020         1        25                100           1500        100  \\\n",
       "1       1020         1        25                100           1500        100   \n",
       "2       1020         1        25                100           1500        100   \n",
       "3       1020         1        25                100           1500        100   \n",
       "4       1020         1        25                100           1500        100   \n",
       "\n",
       "   perm_res  p_crit    plume_rad  pressure_front_rad   \n",
       "0       500   2.744  3575.838906          764.318975  \\\n",
       "1       500   2.744  3704.626476          652.841865   \n",
       "2       500   2.744  3837.923157         1350.007011   \n",
       "3       500   2.744  3102.805433         1120.393950   \n",
       "4       500   2.744  3704.626476          679.289463   \n",
       "\n",
       "   std_dev_to_perm_res_ratio  vertical_correlation  lateral_correlation   \n",
       "0                          1                     8                   84  \\\n",
       "1                          1                     8                  315   \n",
       "2                          1                     9                   21   \n",
       "3                          1                     7                  270   \n",
       "4                          1                     6                   35   \n",
       "\n",
       "   random_seed  \n",
       "0        11507  \n",
       "1        11199  \n",
       "2        11867  \n",
       "3         5068  \n",
       "4         4878  "
      ]
     },
     "execution_count": 8,
     "metadata": {},
     "output_type": "execute_result"
    }
   ],
   "source": [
    "data_result = []\n",
    "\n",
    "iter = 0\n",
    "\n",
    "# total_iter = len(rho_brines) * len(inj_rates) * len(geo_grads) * len(depths_bottom_usdw) * len(depths_top_res) * len(thicks_res) * len(perms_res) * 1 # len(std_dev_to_perm_res_ratios)\n",
    "\n",
    "total_iter = 5 # 6 * 50\n",
    "\n",
    "while iter < total_iter:\n",
    "\n",
    "    for rho_brine in rho_brines:\n",
    "      for inj_rate in inj_rates:\n",
    "        for geo_grad in geo_grads:\n",
    "          for depth_bottom_usdw in depths_bottom_usdw:\n",
    "            for depth_top_res in depths_top_res:\n",
    "              for thick_res in thicks_res:\n",
    "                for perm_res in perms_res:\n",
    "                  for std_dev_to_perm_res_ratio in [1]: #std_dev_to_perm_res_ratios:  \n",
    "                    \n",
    "                      # total_iters = len(rho_brines) * len(inj_rates) * len(geo_grads) * len(depths_bottom_usdw) * len(depths_top_res) * len(thicks_res) * len(perms_res)\n",
    "        \n",
    "                      if iter == 0:\n",
    "                          print('Total iterations', total_iter)\n",
    "        \n",
    "                      # if thick_res / inj_rate < 100: \n",
    "                      #     continue # skipping cases where injection rate is too high for a given thickness\n",
    "        \n",
    "                      # if (depth_bottom_usdw in depths_bottom_usdw_old) and (depth_top_res in depths_top_res_old) and (thick_res in thicks_res_old) and (perm_res in perms_res_old):\n",
    "                      #     continue # skipping cases already done\n",
    "        \n",
    "                      input_arguments = {\n",
    "                          # side bar input\n",
    "                          'initial_pressure': rho_water * g * (depth_top_res - water_tab) * 1e-5, # pressure at top of reservoir in bar\n",
    "                          'reservoir_temperature': t_surf + geo_grad * (depth_top_res + thick_res / 2) / 1000, # temperature in middle of reservoir\n",
    "                          'thickness_m': thick_res,\n",
    "                          'injection_rate': inj_rate,\n",
    "                          'well_top': thick_res,\n",
    "                          'perf_thick': thick_res,\n",
    "                          'irr_water_saturation': 0.2,\n",
    "                          'capillary_lambda': 0.5,\n",
    "        \n",
    "                          # main page inputs not used for homogeneous case\n",
    "                          'type_of_permeability_map': \"Synthetic Heterogeneous\",\n",
    "                          'permeability_map_medium': \"Gaussian\",\n",
    "                          'continuity_of_layers': \"Continuous\",\n",
    "                          'mean_permeability': int(perm_res),\n",
    "                          'standard_deviation': int(perm_res * random.uniform(0, 0.5)),\n",
    "                          'vertical_correlation': random.randint(2, 10),\n",
    "                          'lateral_correlation': random.randint(2, 10) * random.randint(5, 50),\n",
    "                          'random_seed': random.randint(1, 12345),\n",
    "        \n",
    "                          # only need to be set when type_of_permeability_map=Homogeneous\n",
    "                          'permeability': int(perm_res)\n",
    "        \n",
    "                      }\n",
    "        \n",
    "                      files = {}\n",
    "        \n",
    "                      args_json = json.dumps(input_arguments)\n",
    "        \n",
    "                      data = {\n",
    "                          'args_json': (None, args_json),  # Tuple with None as filename indicates it's not a file\n",
    "                      }\n",
    "        \n",
    "                      response = requests.post(url, files=files, data=data)\n",
    "        \n",
    "                      # print(response.status_code) # 200 to ensure success\n",
    "        \n",
    "                      if response.status_code != 200:\n",
    "                          continue # skip the current iteration because failure\n",
    "                        \n",
    "                      response_json = response.json()\n",
    "        \n",
    "                      gas_saturation = np.array(response_json['gas_saturation'])\n",
    "                      pressure_buildup = np.array(response_json['pressure_buildup'])\n",
    "                      # reservoir_pressure = np.array(response_json['reservoir_pressure'])\n",
    "                      # molar_fraction_of_dissolved_phase = np.array(response_json['molar_fraction_of_dissolved_phase'])\n",
    "        \n",
    "                      # draw_real_figure(gas_saturation[:,:,23], \"Gas saturation\", '', thickness)\n",
    "                      # draw_real_figure(pressure_buildup[:,:,23], \"Pressure buildup\", '', thickness)\n",
    "                      # draw_real_figure(reservoir_pressure[:,:,23], \"CO2 gas saturation\", '', thickness)\n",
    "                      # draw_real_figure(molar_fraction_of_dissolved_phase[:,:,23], \"CO2 gas saturation\", '', thickness)\n",
    "        \n",
    "                      # Extracting plume radius\n",
    "        \n",
    "                      plume_index = np.max(np.argmin(gas_saturation[:, :, 23], axis=1))\n",
    "        \n",
    "                      plume_rad = dx[plume_index]\n",
    "        \n",
    "                      # print('Plume radius in m', plume_radius)\n",
    "        \n",
    "                      # Exctracting pressure front\n",
    "        \n",
    "                      p_crit = (rho_brine - rho_water) * g * (depth_top_res - depth_bottom_usdw) * 1e-5 # critical pressure required for buildup (in bar)\n",
    "        \n",
    "                      idx_pressure_front = np.argmin(pressure_buildup[0, :, 23] >= p_crit) # index of pressure front\n",
    "        \n",
    "                      pressure_front_rad = dx[idx_pressure_front] # radius of pressure front\n",
    "        \n",
    "                      # print('Pressure front in m', pressure_front_radius)\n",
    "        \n",
    "                      dict_result = {\n",
    "                          'rho_brine': rho_brine,\n",
    "                          'inj_rate': inj_rate,\n",
    "                          'geo_grad': geo_grad,\n",
    "                          'depth_bottom_usdw': depth_bottom_usdw,\n",
    "                          'depth_top_res': depth_top_res,\n",
    "                          'thick_res': thick_res,\n",
    "                          'perm_res': perm_res,\n",
    "                          'p_crit': p_crit,\n",
    "                          'plume_rad': plume_rad,\n",
    "                          'pressure_front_rad': pressure_front_rad,\n",
    "                          'std_dev_to_perm_res_ratio': std_dev_to_perm_res_ratio, # input_arguments['standard_deviation'] / perm_res,\n",
    "                          'vertical_correlation': input_arguments['vertical_correlation'],\n",
    "                          'lateral_correlation': input_arguments['lateral_correlation'],\n",
    "                          'random_seed': input_arguments['random_seed']\n",
    "                      }\n",
    "        \n",
    "                      data_result.append(dict_result)\n",
    "        \n",
    "                      iter += 1\n",
    "                        \n",
    "                      if iter % 10 == 0: \n",
    "                          print('Completed iter', iter, 'of', total_iter)\n",
    "\n",
    "df_result_hetero = pd.DataFrame(data_result)\n",
    "\n",
    "# df_result_hetero.to_csv('Output_heterogeneous' + str(iter) + '_Nov24_' + '.csv') # uncomment to save file locally\n",
    "\n",
    "df_result_hetero"
   ]
  },
  {
   "cell_type": "code",
   "execution_count": 9,
   "id": "1ecac093-dd3c-46a1-858a-b3ec8fc404aa",
   "metadata": {},
   "outputs": [
    {
     "data": {
      "text/plain": [
       "0.33674114629269986"
      ]
     },
     "execution_count": 9,
     "metadata": {},
     "output_type": "execute_result"
    }
   ],
   "source": [
    "df_result_hetero.pressure_front_rad.std() / df_result_hetero.pressure_front_rad.mean()\n",
    "\n",
    "# df_result_hetero.pressure_front_rad.mean()\n",
    "\n",
    "# df_result_hetero.pressure_front_rad.std()"
   ]
  },
  {
   "cell_type": "code",
   "execution_count": 10,
   "id": "e7363347-fcd0-41ea-bda6-bbeb31f90d73",
   "metadata": {},
   "outputs": [
    {
     "data": {
      "text/plain": [
       "0.07952931136536955"
      ]
     },
     "execution_count": 10,
     "metadata": {},
     "output_type": "execute_result"
    }
   ],
   "source": [
    "df_result_hetero.plume_rad.std() / df_result_hetero.plume_rad.mean()\n",
    "\n",
    "# df_result_hetero.plume_rad.mean()\n",
    "\n",
    "# df_result_hetero.plume_rad.std()"
   ]
  },
  {
   "cell_type": "code",
   "execution_count": 11,
   "id": "b7be1f06-5dd2-41e6-a2b1-e73f75731d11",
   "metadata": {},
   "outputs": [
    {
     "data": {
      "text/plain": [
       "<matplotlib.legend.Legend at 0x11e96c190>"
      ]
     },
     "execution_count": 11,
     "metadata": {},
     "output_type": "execute_result"
    },
    {
     "data": {
      "image/png": "[encoded data removed]",
      "text/plain": [
       "<Figure size 640x480 with 1 Axes>"
      ]
     },
     "metadata": {},
     "output_type": "display_data"
    }
   ],
   "source": [
    "plt.hist(df_result_hetero.plume_rad, color='#ff7f0e', label='CO2 plume radius')\n",
    "plt.hist(df_result_hetero.pressure_front_rad, color='#1f77b4', label='Critical pressure radius')\n",
    "plt.plot(np.array([df_result_hetero.plume_rad.mean(), df_result_hetero.plume_rad.mean()]), np.array([0, 400]), '--', color='k',  label='Homogeneous CO2 plume radius')\n",
    "plt.plot(np.array([df_result_hetero.pressure_front_rad.mean(), df_result_hetero.pressure_front_rad.mean()]), np.array([0, 400]), ':', color='k', label='Homogeneous critical pressure radius')\n",
    "plt.title('Histogram of CO2 plume and critical pressure radius')\n",
    "plt.xlabel('CO2 plume/critical pressure radius (m)')\n",
    "plt.legend()"
   ]
  },
  {
   "cell_type": "markdown",
   "id": "1ce0a00a",
   "metadata": {
    "id": "1ce0a00a",
    "jp-MarkdownHeadingCollapsed": true
   },
   "source": [
    "# Homogeneous"
   ]
  },
  {
   "cell_type": "markdown",
   "id": "uGnydPTgx220",
   "metadata": {
    "id": "uGnydPTgx220"
   },
   "source": [
    "## Initializing variables and creating dataframe"
   ]
  },
  {
   "cell_type": "code",
   "execution_count": 12,
   "id": "YadOppCSx1NU",
   "metadata": {
    "id": "YadOppCSx1NU"
   },
   "outputs": [],
   "source": [
    "# All depths are measured from the surface of the earth\n",
    "\n",
    "water_tab = 10 # water table in m\n",
    "\n",
    "t_surf = 15 # average surface temperature\n",
    "\n",
    "g = 9.8 # acceleration due to gravity in m/s2\n",
    "\n",
    "# Original run\n",
    "\n",
    "rho_water = 1000 # density of water in kg/m3\n",
    "\n",
    "rho_brines_old = np.linspace(1020, 1100, 5) # brine densities in kg/m3 \n",
    "\n",
    "inj_rates_old = np.linspace(0.25, 2, 8) # injection rates in MT/year \n",
    "\n",
    "depths_bottom_usdw_old = np.linspace(100, 350, 6) # np.linspace(100, 250, 4) # depth to bottom of USDW in m \n",
    "\n",
    "depths_top_res_old = np.linspace(800, 1800, 11) # np.linspace(200, 1800, 5) # depth to top of reservoir in m\n",
    "\n",
    "thicks_res_old = np.linspace(50, 200, 7) # np.linspace(50, 200, 4) # thickness of reservoir in m\n",
    "\n",
    "perms_res_old = np.linspace(50, 1000, 20) # permeability of reservoir in mD\n",
    "\n",
    "# New run\n",
    "\n",
    "rho_brines = np.linspace(1010, 1030, 3) # np.linspace(1040, 1200, 5) # brine densities in kg/m3 \n",
    "\n",
    "inj_rates = np.linspace(0.25, 2, 8) # injection rates in MT/year \n",
    "\n",
    "geo_grads = [25] # geothermal gradient in oC/km \n",
    "\n",
    "depths_bottom_usdw = np.linspace(100, 350, 6) # depth to bottom of USDW in m \n",
    "\n",
    "depths_top_res =  np.linspace(800, 1000, 3) # depth to top of reservoir in m \n",
    "\n",
    "thicks_res = np.linspace(50, 200, 7) # thickness of reservoir in m\n",
    "\n",
    "perms_res = np.linspace(5, 45, 9) # np.linspace(50, 1000, 20) # permeability of reservoir in mD"
   ]
  },
  {
   "cell_type": "code",
   "execution_count": 13,
   "id": "dbc09VVHxyMJ",
   "metadata": {
    "id": "dbc09VVHxyMJ"
   },
   "outputs": [
    {
     "name": "stdout",
     "output_type": "stream",
     "text": [
      "Actual new iterations 17010\n",
      "Estimated number of hours 17.01\n",
      "Estimated number of days 0.70875\n",
      "Naive estimate 27216\n"
     ]
    }
   ],
   "source": [
    "# Checking number of iterations\n",
    "\n",
    "total_iter = 0\n",
    "\n",
    "for rho_brine in rho_brines:\n",
    "  for inj_rate in inj_rates:\n",
    "    for geo_grad in geo_grads:\n",
    "      for depth_bottom_usdw in depths_bottom_usdw:\n",
    "        for depth_top_res in depths_top_res:\n",
    "          for thick_res in thicks_res:\n",
    "            for perm_res in perms_res:\n",
    "                \n",
    "              if thick_res / inj_rate < 100: \n",
    "                  continue # skipping cases where injection rate is too high for a given thickness\n",
    "\n",
    "              if (rho_brine in rho_brines_old) and (inj_rate in inj_rates_old) and (depth_bottom_usdw in depths_bottom_usdw_old) and (depth_top_res in depths_top_res_old) and (thick_res in thicks_res_old) and (perm_res in perms_res_old):\n",
    "                  continue # skipping cases already done\n",
    "\n",
    "              total_iter += 1\n",
    "\n",
    "print('Actual new iterations', total_iter)\n",
    "print('Estimated number of hours', total_iter / 1000)\n",
    "print('Estimated number of days', total_iter / 24000)\n",
    "print('Naive estimate', len(rho_brines) * len(inj_rates) * len(geo_grads) * len(depths_bottom_usdw) * len(depths_top_res) * len(thicks_res) * len(perms_res))"
   ]
  },
  {
   "cell_type": "markdown",
   "id": "2OWVftXyx8_i",
   "metadata": {
    "id": "2OWVftXyx8_i"
   },
   "source": [
    "## Looping through all iterations"
   ]
  },
  {
   "cell_type": "code",
   "execution_count": 14,
   "id": "225bfb82",
   "metadata": {
    "colab": {
     "base_uri": "https://localhost:8080/"
    },
    "id": "225bfb82",
    "outputId": "6d2cd05d-35a8-4c3f-ac94-552810ad3cf9",
    "scrolled": true
   },
   "outputs": [
    {
     "name": "stdout",
     "output_type": "stream",
     "text": [
      "Total iterations 17010\n",
      "Completed iter 5 of 17010\n"
     ]
    },
    {
     "ename": "KeyboardInterrupt",
     "evalue": "",
     "output_type": "error",
     "traceback": [
      "\u001b[0;31m---------------------------------------------------------------------------\u001b[0m",
      "\u001b[0;31mKeyboardInterrupt\u001b[0m                         Traceback (most recent call last)",
      "Cell \u001b[0;32mIn[14], line 66\u001b[0m\n\u001b[1;32m     60\u001b[0m args_json \u001b[38;5;241m=\u001b[39m json\u001b[38;5;241m.\u001b[39mdumps(input_arguments)\n\u001b[1;32m     62\u001b[0m data \u001b[38;5;241m=\u001b[39m {\n\u001b[1;32m     63\u001b[0m     \u001b[38;5;124m'\u001b[39m\u001b[38;5;124margs_json\u001b[39m\u001b[38;5;124m'\u001b[39m: (\u001b[38;5;28;01mNone\u001b[39;00m, args_json),  \u001b[38;5;66;03m# Tuple with None as filename indicates it's not a file\u001b[39;00m\n\u001b[1;32m     64\u001b[0m }\n\u001b[0;32m---> 66\u001b[0m response \u001b[38;5;241m=\u001b[39m \u001b[43mrequests\u001b[49m\u001b[38;5;241;43m.\u001b[39;49m\u001b[43mpost\u001b[49m\u001b[43m(\u001b[49m\u001b[43murl\u001b[49m\u001b[43m,\u001b[49m\u001b[43m \u001b[49m\u001b[43mfiles\u001b[49m\u001b[38;5;241;43m=\u001b[39;49m\u001b[43mfiles\u001b[49m\u001b[43m,\u001b[49m\u001b[43m \u001b[49m\u001b[43mdata\u001b[49m\u001b[38;5;241;43m=\u001b[39;49m\u001b[43mdata\u001b[49m\u001b[43m)\u001b[49m\n\u001b[1;32m     68\u001b[0m \u001b[38;5;66;03m# print(response.status_code) # 200 to ensure success\u001b[39;00m\n\u001b[1;32m     70\u001b[0m \u001b[38;5;28;01mif\u001b[39;00m response\u001b[38;5;241m.\u001b[39mstatus_code \u001b[38;5;241m!=\u001b[39m \u001b[38;5;241m200\u001b[39m:\n",
      "File \u001b[0;32m/opt/homebrew/lib/python3.10/site-packages/requests/api.py:115\u001b[0m, in \u001b[0;36mpost\u001b[0;34m(url, data, json, **kwargs)\u001b[0m\n\u001b[1;32m    103\u001b[0m \u001b[38;5;28;01mdef\u001b[39;00m \u001b[38;5;21mpost\u001b[39m(url, data\u001b[38;5;241m=\u001b[39m\u001b[38;5;28;01mNone\u001b[39;00m, json\u001b[38;5;241m=\u001b[39m\u001b[38;5;28;01mNone\u001b[39;00m, \u001b[38;5;241m*\u001b[39m\u001b[38;5;241m*\u001b[39mkwargs):\n\u001b[1;32m    104\u001b[0m \u001b[38;5;250m    \u001b[39m\u001b[38;5;124mr\u001b[39m\u001b[38;5;124;03m\"\"\"Sends a POST request.\u001b[39;00m\n\u001b[1;32m    105\u001b[0m \n\u001b[1;32m    106\u001b[0m \u001b[38;5;124;03m    :param url: URL for the new :class:`Request` object.\u001b[39;00m\n\u001b[0;32m   (...)\u001b[0m\n\u001b[1;32m    112\u001b[0m \u001b[38;5;124;03m    :rtype: requests.Response\u001b[39;00m\n\u001b[1;32m    113\u001b[0m \u001b[38;5;124;03m    \"\"\"\u001b[39;00m\n\u001b[0;32m--> 115\u001b[0m     \u001b[38;5;28;01mreturn\u001b[39;00m \u001b[43mrequest\u001b[49m\u001b[43m(\u001b[49m\u001b[38;5;124;43m\"\u001b[39;49m\u001b[38;5;124;43mpost\u001b[39;49m\u001b[38;5;124;43m\"\u001b[39;49m\u001b[43m,\u001b[49m\u001b[43m \u001b[49m\u001b[43murl\u001b[49m\u001b[43m,\u001b[49m\u001b[43m \u001b[49m\u001b[43mdata\u001b[49m\u001b[38;5;241;43m=\u001b[39;49m\u001b[43mdata\u001b[49m\u001b[43m,\u001b[49m\u001b[43m \u001b[49m\u001b[43mjson\u001b[49m\u001b[38;5;241;43m=\u001b[39;49m\u001b[43mjson\u001b[49m\u001b[43m,\u001b[49m\u001b[43m \u001b[49m\u001b[38;5;241;43m*\u001b[39;49m\u001b[38;5;241;43m*\u001b[39;49m\u001b[43mkwargs\u001b[49m\u001b[43m)\u001b[49m\n",
      "File \u001b[0;32m/opt/homebrew/lib/python3.10/site-packages/requests/api.py:59\u001b[0m, in \u001b[0;36mrequest\u001b[0;34m(method, url, **kwargs)\u001b[0m\n\u001b[1;32m     55\u001b[0m \u001b[38;5;66;03m# By using the 'with' statement we are sure the session is closed, thus we\u001b[39;00m\n\u001b[1;32m     56\u001b[0m \u001b[38;5;66;03m# avoid leaving sockets open which can trigger a ResourceWarning in some\u001b[39;00m\n\u001b[1;32m     57\u001b[0m \u001b[38;5;66;03m# cases, and look like a memory leak in others.\u001b[39;00m\n\u001b[1;32m     58\u001b[0m \u001b[38;5;28;01mwith\u001b[39;00m sessions\u001b[38;5;241m.\u001b[39mSession() \u001b[38;5;28;01mas\u001b[39;00m session:\n\u001b[0;32m---> 59\u001b[0m     \u001b[38;5;28;01mreturn\u001b[39;00m \u001b[43msession\u001b[49m\u001b[38;5;241;43m.\u001b[39;49m\u001b[43mrequest\u001b[49m\u001b[43m(\u001b[49m\u001b[43mmethod\u001b[49m\u001b[38;5;241;43m=\u001b[39;49m\u001b[43mmethod\u001b[49m\u001b[43m,\u001b[49m\u001b[43m \u001b[49m\u001b[43murl\u001b[49m\u001b[38;5;241;43m=\u001b[39;49m\u001b[43murl\u001b[49m\u001b[43m,\u001b[49m\u001b[43m \u001b[49m\u001b[38;5;241;43m*\u001b[39;49m\u001b[38;5;241;43m*\u001b[39;49m\u001b[43mkwargs\u001b[49m\u001b[43m)\u001b[49m\n",
      "File \u001b[0;32m/opt/homebrew/lib/python3.10/site-packages/requests/sessions.py:589\u001b[0m, in \u001b[0;36mSession.request\u001b[0;34m(self, method, url, params, data, headers, cookies, files, auth, timeout, allow_redirects, proxies, hooks, stream, verify, cert, json)\u001b[0m\n\u001b[1;32m    584\u001b[0m send_kwargs \u001b[38;5;241m=\u001b[39m {\n\u001b[1;32m    585\u001b[0m     \u001b[38;5;124m\"\u001b[39m\u001b[38;5;124mtimeout\u001b[39m\u001b[38;5;124m\"\u001b[39m: timeout,\n\u001b[1;32m    586\u001b[0m     \u001b[38;5;124m\"\u001b[39m\u001b[38;5;124mallow_redirects\u001b[39m\u001b[38;5;124m\"\u001b[39m: allow_redirects,\n\u001b[1;32m    587\u001b[0m }\n\u001b[1;32m    588\u001b[0m send_kwargs\u001b[38;5;241m.\u001b[39mupdate(settings)\n\u001b[0;32m--> 589\u001b[0m resp \u001b[38;5;241m=\u001b[39m \u001b[38;5;28;43mself\u001b[39;49m\u001b[38;5;241;43m.\u001b[39;49m\u001b[43msend\u001b[49m\u001b[43m(\u001b[49m\u001b[43mprep\u001b[49m\u001b[43m,\u001b[49m\u001b[43m \u001b[49m\u001b[38;5;241;43m*\u001b[39;49m\u001b[38;5;241;43m*\u001b[39;49m\u001b[43msend_kwargs\u001b[49m\u001b[43m)\u001b[49m\n\u001b[1;32m    591\u001b[0m \u001b[38;5;28;01mreturn\u001b[39;00m resp\n",
      "File \u001b[0;32m/opt/homebrew/lib/python3.10/site-packages/requests/sessions.py:703\u001b[0m, in \u001b[0;36mSession.send\u001b[0;34m(self, request, **kwargs)\u001b[0m\n\u001b[1;32m    700\u001b[0m start \u001b[38;5;241m=\u001b[39m preferred_clock()\n\u001b[1;32m    702\u001b[0m \u001b[38;5;66;03m# Send the request\u001b[39;00m\n\u001b[0;32m--> 703\u001b[0m r \u001b[38;5;241m=\u001b[39m \u001b[43madapter\u001b[49m\u001b[38;5;241;43m.\u001b[39;49m\u001b[43msend\u001b[49m\u001b[43m(\u001b[49m\u001b[43mrequest\u001b[49m\u001b[43m,\u001b[49m\u001b[43m \u001b[49m\u001b[38;5;241;43m*\u001b[39;49m\u001b[38;5;241;43m*\u001b[39;49m\u001b[43mkwargs\u001b[49m\u001b[43m)\u001b[49m\n\u001b[1;32m    705\u001b[0m \u001b[38;5;66;03m# Total elapsed time of the request (approximately)\u001b[39;00m\n\u001b[1;32m    706\u001b[0m elapsed \u001b[38;5;241m=\u001b[39m preferred_clock() \u001b[38;5;241m-\u001b[39m start\n",
      "File \u001b[0;32m/opt/homebrew/lib/python3.10/site-packages/requests/adapters.py:486\u001b[0m, in \u001b[0;36mHTTPAdapter.send\u001b[0;34m(self, request, stream, timeout, verify, cert, proxies)\u001b[0m\n\u001b[1;32m    483\u001b[0m     timeout \u001b[38;5;241m=\u001b[39m TimeoutSauce(connect\u001b[38;5;241m=\u001b[39mtimeout, read\u001b[38;5;241m=\u001b[39mtimeout)\n\u001b[1;32m    485\u001b[0m \u001b[38;5;28;01mtry\u001b[39;00m:\n\u001b[0;32m--> 486\u001b[0m     resp \u001b[38;5;241m=\u001b[39m \u001b[43mconn\u001b[49m\u001b[38;5;241;43m.\u001b[39;49m\u001b[43murlopen\u001b[49m\u001b[43m(\u001b[49m\n\u001b[1;32m    487\u001b[0m \u001b[43m        \u001b[49m\u001b[43mmethod\u001b[49m\u001b[38;5;241;43m=\u001b[39;49m\u001b[43mrequest\u001b[49m\u001b[38;5;241;43m.\u001b[39;49m\u001b[43mmethod\u001b[49m\u001b[43m,\u001b[49m\n\u001b[1;32m    488\u001b[0m \u001b[43m        \u001b[49m\u001b[43murl\u001b[49m\u001b[38;5;241;43m=\u001b[39;49m\u001b[43murl\u001b[49m\u001b[43m,\u001b[49m\n\u001b[1;32m    489\u001b[0m \u001b[43m        \u001b[49m\u001b[43mbody\u001b[49m\u001b[38;5;241;43m=\u001b[39;49m\u001b[43mrequest\u001b[49m\u001b[38;5;241;43m.\u001b[39;49m\u001b[43mbody\u001b[49m\u001b[43m,\u001b[49m\n\u001b[1;32m    490\u001b[0m \u001b[43m        \u001b[49m\u001b[43mheaders\u001b[49m\u001b[38;5;241;43m=\u001b[39;49m\u001b[43mrequest\u001b[49m\u001b[38;5;241;43m.\u001b[39;49m\u001b[43mheaders\u001b[49m\u001b[43m,\u001b[49m\n\u001b[1;32m    491\u001b[0m \u001b[43m        \u001b[49m\u001b[43mredirect\u001b[49m\u001b[38;5;241;43m=\u001b[39;49m\u001b[38;5;28;43;01mFalse\u001b[39;49;00m\u001b[43m,\u001b[49m\n\u001b[1;32m    492\u001b[0m \u001b[43m        \u001b[49m\u001b[43massert_same_host\u001b[49m\u001b[38;5;241;43m=\u001b[39;49m\u001b[38;5;28;43;01mFalse\u001b[39;49;00m\u001b[43m,\u001b[49m\n\u001b[1;32m    493\u001b[0m \u001b[43m        \u001b[49m\u001b[43mpreload_content\u001b[49m\u001b[38;5;241;43m=\u001b[39;49m\u001b[38;5;28;43;01mFalse\u001b[39;49;00m\u001b[43m,\u001b[49m\n\u001b[1;32m    494\u001b[0m \u001b[43m        \u001b[49m\u001b[43mdecode_content\u001b[49m\u001b[38;5;241;43m=\u001b[39;49m\u001b[38;5;28;43;01mFalse\u001b[39;49;00m\u001b[43m,\u001b[49m\n\u001b[1;32m    495\u001b[0m \u001b[43m        \u001b[49m\u001b[43mretries\u001b[49m\u001b[38;5;241;43m=\u001b[39;49m\u001b[38;5;28;43mself\u001b[39;49m\u001b[38;5;241;43m.\u001b[39;49m\u001b[43mmax_retries\u001b[49m\u001b[43m,\u001b[49m\n\u001b[1;32m    496\u001b[0m \u001b[43m        \u001b[49m\u001b[43mtimeout\u001b[49m\u001b[38;5;241;43m=\u001b[39;49m\u001b[43mtimeout\u001b[49m\u001b[43m,\u001b[49m\n\u001b[1;32m    497\u001b[0m \u001b[43m        \u001b[49m\u001b[43mchunked\u001b[49m\u001b[38;5;241;43m=\u001b[39;49m\u001b[43mchunked\u001b[49m\u001b[43m,\u001b[49m\n\u001b[1;32m    498\u001b[0m \u001b[43m    \u001b[49m\u001b[43m)\u001b[49m\n\u001b[1;32m    500\u001b[0m \u001b[38;5;28;01mexcept\u001b[39;00m (ProtocolError, \u001b[38;5;167;01mOSError\u001b[39;00m) \u001b[38;5;28;01mas\u001b[39;00m err:\n\u001b[1;32m    501\u001b[0m     \u001b[38;5;28;01mraise\u001b[39;00m \u001b[38;5;167;01mConnectionError\u001b[39;00m(err, request\u001b[38;5;241m=\u001b[39mrequest)\n",
      "File \u001b[0;32m/opt/homebrew/lib/python3.10/site-packages/urllib3/connectionpool.py:703\u001b[0m, in \u001b[0;36mHTTPConnectionPool.urlopen\u001b[0;34m(self, method, url, body, headers, retries, redirect, assert_same_host, timeout, pool_timeout, release_conn, chunked, body_pos, **response_kw)\u001b[0m\n\u001b[1;32m    700\u001b[0m     \u001b[38;5;28mself\u001b[39m\u001b[38;5;241m.\u001b[39m_prepare_proxy(conn)\n\u001b[1;32m    702\u001b[0m \u001b[38;5;66;03m# Make the request on the httplib connection object.\u001b[39;00m\n\u001b[0;32m--> 703\u001b[0m httplib_response \u001b[38;5;241m=\u001b[39m \u001b[38;5;28;43mself\u001b[39;49m\u001b[38;5;241;43m.\u001b[39;49m\u001b[43m_make_request\u001b[49m\u001b[43m(\u001b[49m\n\u001b[1;32m    704\u001b[0m \u001b[43m    \u001b[49m\u001b[43mconn\u001b[49m\u001b[43m,\u001b[49m\n\u001b[1;32m    705\u001b[0m \u001b[43m    \u001b[49m\u001b[43mmethod\u001b[49m\u001b[43m,\u001b[49m\n\u001b[1;32m    706\u001b[0m \u001b[43m    \u001b[49m\u001b[43murl\u001b[49m\u001b[43m,\u001b[49m\n\u001b[1;32m    707\u001b[0m \u001b[43m    \u001b[49m\u001b[43mtimeout\u001b[49m\u001b[38;5;241;43m=\u001b[39;49m\u001b[43mtimeout_obj\u001b[49m\u001b[43m,\u001b[49m\n\u001b[1;32m    708\u001b[0m \u001b[43m    \u001b[49m\u001b[43mbody\u001b[49m\u001b[38;5;241;43m=\u001b[39;49m\u001b[43mbody\u001b[49m\u001b[43m,\u001b[49m\n\u001b[1;32m    709\u001b[0m \u001b[43m    \u001b[49m\u001b[43mheaders\u001b[49m\u001b[38;5;241;43m=\u001b[39;49m\u001b[43mheaders\u001b[49m\u001b[43m,\u001b[49m\n\u001b[1;32m    710\u001b[0m \u001b[43m    \u001b[49m\u001b[43mchunked\u001b[49m\u001b[38;5;241;43m=\u001b[39;49m\u001b[43mchunked\u001b[49m\u001b[43m,\u001b[49m\n\u001b[1;32m    711\u001b[0m \u001b[43m\u001b[49m\u001b[43m)\u001b[49m\n\u001b[1;32m    713\u001b[0m \u001b[38;5;66;03m# If we're going to release the connection in ``finally:``, then\u001b[39;00m\n\u001b[1;32m    714\u001b[0m \u001b[38;5;66;03m# the response doesn't need to know about the connection. Otherwise\u001b[39;00m\n\u001b[1;32m    715\u001b[0m \u001b[38;5;66;03m# it will also try to release it and we'll have a double-release\u001b[39;00m\n\u001b[1;32m    716\u001b[0m \u001b[38;5;66;03m# mess.\u001b[39;00m\n\u001b[1;32m    717\u001b[0m response_conn \u001b[38;5;241m=\u001b[39m conn \u001b[38;5;28;01mif\u001b[39;00m \u001b[38;5;129;01mnot\u001b[39;00m release_conn \u001b[38;5;28;01melse\u001b[39;00m \u001b[38;5;28;01mNone\u001b[39;00m\n",
      "File \u001b[0;32m/opt/homebrew/lib/python3.10/site-packages/urllib3/connectionpool.py:449\u001b[0m, in \u001b[0;36mHTTPConnectionPool._make_request\u001b[0;34m(self, conn, method, url, timeout, chunked, **httplib_request_kw)\u001b[0m\n\u001b[1;32m    444\u001b[0m             httplib_response \u001b[38;5;241m=\u001b[39m conn\u001b[38;5;241m.\u001b[39mgetresponse()\n\u001b[1;32m    445\u001b[0m         \u001b[38;5;28;01mexcept\u001b[39;00m \u001b[38;5;167;01mBaseException\u001b[39;00m \u001b[38;5;28;01mas\u001b[39;00m e:\n\u001b[1;32m    446\u001b[0m             \u001b[38;5;66;03m# Remove the TypeError from the exception chain in\u001b[39;00m\n\u001b[1;32m    447\u001b[0m             \u001b[38;5;66;03m# Python 3 (including for exceptions like SystemExit).\u001b[39;00m\n\u001b[1;32m    448\u001b[0m             \u001b[38;5;66;03m# Otherwise it looks like a bug in the code.\u001b[39;00m\n\u001b[0;32m--> 449\u001b[0m             \u001b[43msix\u001b[49m\u001b[38;5;241;43m.\u001b[39;49m\u001b[43mraise_from\u001b[49m\u001b[43m(\u001b[49m\u001b[43me\u001b[49m\u001b[43m,\u001b[49m\u001b[43m \u001b[49m\u001b[38;5;28;43;01mNone\u001b[39;49;00m\u001b[43m)\u001b[49m\n\u001b[1;32m    450\u001b[0m \u001b[38;5;28;01mexcept\u001b[39;00m (SocketTimeout, BaseSSLError, SocketError) \u001b[38;5;28;01mas\u001b[39;00m e:\n\u001b[1;32m    451\u001b[0m     \u001b[38;5;28mself\u001b[39m\u001b[38;5;241m.\u001b[39m_raise_timeout(err\u001b[38;5;241m=\u001b[39me, url\u001b[38;5;241m=\u001b[39murl, timeout_value\u001b[38;5;241m=\u001b[39mread_timeout)\n",
      "File \u001b[0;32m<string>:3\u001b[0m, in \u001b[0;36mraise_from\u001b[0;34m(value, from_value)\u001b[0m\n",
      "File \u001b[0;32m/opt/homebrew/lib/python3.10/site-packages/urllib3/connectionpool.py:444\u001b[0m, in \u001b[0;36mHTTPConnectionPool._make_request\u001b[0;34m(self, conn, method, url, timeout, chunked, **httplib_request_kw)\u001b[0m\n\u001b[1;32m    441\u001b[0m \u001b[38;5;28;01mexcept\u001b[39;00m \u001b[38;5;167;01mTypeError\u001b[39;00m:\n\u001b[1;32m    442\u001b[0m     \u001b[38;5;66;03m# Python 3\u001b[39;00m\n\u001b[1;32m    443\u001b[0m     \u001b[38;5;28;01mtry\u001b[39;00m:\n\u001b[0;32m--> 444\u001b[0m         httplib_response \u001b[38;5;241m=\u001b[39m \u001b[43mconn\u001b[49m\u001b[38;5;241;43m.\u001b[39;49m\u001b[43mgetresponse\u001b[49m\u001b[43m(\u001b[49m\u001b[43m)\u001b[49m\n\u001b[1;32m    445\u001b[0m     \u001b[38;5;28;01mexcept\u001b[39;00m \u001b[38;5;167;01mBaseException\u001b[39;00m \u001b[38;5;28;01mas\u001b[39;00m e:\n\u001b[1;32m    446\u001b[0m         \u001b[38;5;66;03m# Remove the TypeError from the exception chain in\u001b[39;00m\n\u001b[1;32m    447\u001b[0m         \u001b[38;5;66;03m# Python 3 (including for exceptions like SystemExit).\u001b[39;00m\n\u001b[1;32m    448\u001b[0m         \u001b[38;5;66;03m# Otherwise it looks like a bug in the code.\u001b[39;00m\n\u001b[1;32m    449\u001b[0m         six\u001b[38;5;241m.\u001b[39mraise_from(e, \u001b[38;5;28;01mNone\u001b[39;00m)\n",
      "File \u001b[0;32m/opt/homebrew/Cellar/python@3.10/3.10.9/Frameworks/Python.framework/Versions/3.10/lib/python3.10/http/client.py:1374\u001b[0m, in \u001b[0;36mHTTPConnection.getresponse\u001b[0;34m(self)\u001b[0m\n\u001b[1;32m   1372\u001b[0m \u001b[38;5;28;01mtry\u001b[39;00m:\n\u001b[1;32m   1373\u001b[0m     \u001b[38;5;28;01mtry\u001b[39;00m:\n\u001b[0;32m-> 1374\u001b[0m         \u001b[43mresponse\u001b[49m\u001b[38;5;241;43m.\u001b[39;49m\u001b[43mbegin\u001b[49m\u001b[43m(\u001b[49m\u001b[43m)\u001b[49m\n\u001b[1;32m   1375\u001b[0m     \u001b[38;5;28;01mexcept\u001b[39;00m \u001b[38;5;167;01mConnectionError\u001b[39;00m:\n\u001b[1;32m   1376\u001b[0m         \u001b[38;5;28mself\u001b[39m\u001b[38;5;241m.\u001b[39mclose()\n",
      "File \u001b[0;32m/opt/homebrew/Cellar/python@3.10/3.10.9/Frameworks/Python.framework/Versions/3.10/lib/python3.10/http/client.py:318\u001b[0m, in \u001b[0;36mHTTPResponse.begin\u001b[0;34m(self)\u001b[0m\n\u001b[1;32m    316\u001b[0m \u001b[38;5;66;03m# read until we get a non-100 response\u001b[39;00m\n\u001b[1;32m    317\u001b[0m \u001b[38;5;28;01mwhile\u001b[39;00m \u001b[38;5;28;01mTrue\u001b[39;00m:\n\u001b[0;32m--> 318\u001b[0m     version, status, reason \u001b[38;5;241m=\u001b[39m \u001b[38;5;28;43mself\u001b[39;49m\u001b[38;5;241;43m.\u001b[39;49m\u001b[43m_read_status\u001b[49m\u001b[43m(\u001b[49m\u001b[43m)\u001b[49m\n\u001b[1;32m    319\u001b[0m     \u001b[38;5;28;01mif\u001b[39;00m status \u001b[38;5;241m!=\u001b[39m CONTINUE:\n\u001b[1;32m    320\u001b[0m         \u001b[38;5;28;01mbreak\u001b[39;00m\n",
      "File \u001b[0;32m/opt/homebrew/Cellar/python@3.10/3.10.9/Frameworks/Python.framework/Versions/3.10/lib/python3.10/http/client.py:279\u001b[0m, in \u001b[0;36mHTTPResponse._read_status\u001b[0;34m(self)\u001b[0m\n\u001b[1;32m    278\u001b[0m \u001b[38;5;28;01mdef\u001b[39;00m \u001b[38;5;21m_read_status\u001b[39m(\u001b[38;5;28mself\u001b[39m):\n\u001b[0;32m--> 279\u001b[0m     line \u001b[38;5;241m=\u001b[39m \u001b[38;5;28mstr\u001b[39m(\u001b[38;5;28;43mself\u001b[39;49m\u001b[38;5;241;43m.\u001b[39;49m\u001b[43mfp\u001b[49m\u001b[38;5;241;43m.\u001b[39;49m\u001b[43mreadline\u001b[49m\u001b[43m(\u001b[49m\u001b[43m_MAXLINE\u001b[49m\u001b[43m \u001b[49m\u001b[38;5;241;43m+\u001b[39;49m\u001b[43m \u001b[49m\u001b[38;5;241;43m1\u001b[39;49m\u001b[43m)\u001b[49m, \u001b[38;5;124m\"\u001b[39m\u001b[38;5;124miso-8859-1\u001b[39m\u001b[38;5;124m\"\u001b[39m)\n\u001b[1;32m    280\u001b[0m     \u001b[38;5;28;01mif\u001b[39;00m \u001b[38;5;28mlen\u001b[39m(line) \u001b[38;5;241m>\u001b[39m _MAXLINE:\n\u001b[1;32m    281\u001b[0m         \u001b[38;5;28;01mraise\u001b[39;00m LineTooLong(\u001b[38;5;124m\"\u001b[39m\u001b[38;5;124mstatus line\u001b[39m\u001b[38;5;124m\"\u001b[39m)\n",
      "File \u001b[0;32m/opt/homebrew/Cellar/python@3.10/3.10.9/Frameworks/Python.framework/Versions/3.10/lib/python3.10/socket.py:705\u001b[0m, in \u001b[0;36mSocketIO.readinto\u001b[0;34m(self, b)\u001b[0m\n\u001b[1;32m    703\u001b[0m \u001b[38;5;28;01mwhile\u001b[39;00m \u001b[38;5;28;01mTrue\u001b[39;00m:\n\u001b[1;32m    704\u001b[0m     \u001b[38;5;28;01mtry\u001b[39;00m:\n\u001b[0;32m--> 705\u001b[0m         \u001b[38;5;28;01mreturn\u001b[39;00m \u001b[38;5;28;43mself\u001b[39;49m\u001b[38;5;241;43m.\u001b[39;49m\u001b[43m_sock\u001b[49m\u001b[38;5;241;43m.\u001b[39;49m\u001b[43mrecv_into\u001b[49m\u001b[43m(\u001b[49m\u001b[43mb\u001b[49m\u001b[43m)\u001b[49m\n\u001b[1;32m    706\u001b[0m     \u001b[38;5;28;01mexcept\u001b[39;00m timeout:\n\u001b[1;32m    707\u001b[0m         \u001b[38;5;28mself\u001b[39m\u001b[38;5;241m.\u001b[39m_timeout_occurred \u001b[38;5;241m=\u001b[39m \u001b[38;5;28;01mTrue\u001b[39;00m\n",
      "\u001b[0;31mKeyboardInterrupt\u001b[0m: "
     ]
    }
   ],
   "source": [
    "data_result = []\n",
    "\n",
    "iter = 0\n",
    "skips = 0\n",
    "fails = 0\n",
    "\n",
    "print('Total iterations', total_iter)\n",
    "\n",
    "for rho_brine in rho_brines:\n",
    "  for inj_rate in inj_rates:\n",
    "    for geo_grad in geo_grads:\n",
    "      for depth_bottom_usdw in depths_bottom_usdw:\n",
    "        for depth_top_res in depths_top_res:\n",
    "          for thick_res in thicks_res:\n",
    "            for perm_res in perms_res:\n",
    "\n",
    "              # total_iters = len(rho_brines) * len(inj_rates) * len(geo_grads) * len(depths_bottom_usdw) * len(depths_top_res) * len(thicks_res) * len(perms_res)\n",
    "\n",
    "              # if iter == 0:\n",
    "              #     print('Total iterations', total_iter)\n",
    "\n",
    "              if thick_res / inj_rate < 100: \n",
    "                  print('1Skip' + str(skips))\n",
    "                  skips += 1\n",
    "                  continue # skipping cases where injection rate is too high for a given thickness\n",
    "\n",
    "              if (rho_brine in rho_brines_old) and (inj_rate in inj_rates_old) and (depth_bottom_usdw in depths_bottom_usdw_old) and (depth_top_res in depths_top_res_old) and (thick_res in thicks_res_old) and (perm_res in perms_res_old):\n",
    "                  print('2Skip' + str(skips))\n",
    "                  skips += 1\n",
    "                  continue # skipping cases already done\n",
    "                \n",
    "              input_arguments = {\n",
    "                  # side bar input\n",
    "                  'initial_pressure': rho_water * g * (depth_top_res - water_tab) * 1e-5, # pressure at top of reservoir in bar\n",
    "                  'reservoir_temperature': t_surf + geo_grad * (depth_top_res + thick_res / 2) / 1000, # temperature in middle of reservoir\n",
    "                  'thickness_m': thick_res,\n",
    "                  'injection_rate': inj_rate,\n",
    "                  'well_top': thick_res,\n",
    "                  'perf_thick': thick_res,\n",
    "                  'irr_water_saturation': 0.2,\n",
    "                  'capillary_lambda': 0.5,\n",
    "\n",
    "                  # main page inputs not used for homogeneous case\n",
    "                  'type_of_permeability_map': \"Homogeneous\",\n",
    "                  'permeability_map_medium': \"Gaussian\",\n",
    "                  'continuity_of_layers': \"Continuous\",\n",
    "                  'mean_permeability': 50,\n",
    "                  'standard_deviation': 15,\n",
    "                  'vertical_correlation': 20,\n",
    "                  'lateral_correlation': 1000,\n",
    "                  'random_seed': 12345,\n",
    "\n",
    "                  # only need to be set when type_of_permeability_map=Homogeneous\n",
    "                  'permeability': int(perm_res)\n",
    "\n",
    "              }\n",
    "\n",
    "              files = {}\n",
    "\n",
    "              args_json = json.dumps(input_arguments)\n",
    "\n",
    "              data = {\n",
    "                  'args_json': (None, args_json),  # Tuple with None as filename indicates it's not a file\n",
    "              }\n",
    "\n",
    "              response = requests.post(url, files=files, data=data)\n",
    "\n",
    "              # print(response.status_code) # 200 to ensure success\n",
    "\n",
    "              if response.status_code != 200:\n",
    "                  fails += 1\n",
    "                  print('Failure' + str(fails))\n",
    "                  continue # skip the current iteration because failure\n",
    "                \n",
    "              response_json = response.json()\n",
    "\n",
    "              gas_saturation = np.array(response_json['gas_saturation'])\n",
    "              pressure_buildup = np.array(response_json['pressure_buildup'])\n",
    "              # reservoir_pressure = np.array(response_json['reservoir_pressure'])\n",
    "              # molar_fraction_of_dissolved_phase = np.array(response_json['molar_fraction_of_dissolved_phase'])\n",
    "\n",
    "              # draw_real_figure(gas_saturation[:,:,23], \"Gas saturation\", '', thickness)\n",
    "              # draw_real_figure(pressure_buildup[:,:,23], \"Pressure buildup\", '', thickness)\n",
    "              # draw_real_figure(reservoir_pressure[:,:,23], \"CO2 gas saturation\", '', thickness)\n",
    "              # draw_real_figure(molar_fraction_of_dissolved_phase[:,:,23], \"CO2 gas saturation\", '', thickness)\n",
    "\n",
    "              # Extracting plume radius\n",
    "\n",
    "              plume_index = np.max(np.argmin(gas_saturation[:, :, 23], axis=1))\n",
    "\n",
    "              plume_rad = dx[plume_index]\n",
    "\n",
    "              # print('Plume radius in m', plume_radius)\n",
    "\n",
    "              # Exctracting pressure front\n",
    "\n",
    "              p_crit = (rho_brine - rho_water) * g * (depth_top_res - depth_bottom_usdw) * 1e-5 # critical pressure required for buildup (in bar)\n",
    "\n",
    "              idx_pressure_front = np.argmin(pressure_buildup[0, :, 23] >= p_crit) # index of pressure front\n",
    "\n",
    "              pressure_front_rad = dx[idx_pressure_front] # radius of pressure front\n",
    "\n",
    "              # print('Pressure front in m', pressure_front_radius)\n",
    "\n",
    "              dict_result = {\n",
    "                  'rho_brine': rho_brine,\n",
    "                  'inj_rate': inj_rate,\n",
    "                  'geo_grad': geo_grad,\n",
    "                  'depth_bottom_usdw': depth_bottom_usdw,\n",
    "                  'depth_top_res': depth_top_res,\n",
    "                  'thick_res': thick_res,\n",
    "                  'perm_res': perm_res,\n",
    "                  'p_crit': p_crit,\n",
    "                  'plume_rad': plume_rad,\n",
    "                  'pressure_front_rad': pressure_front_rad\n",
    "              }\n",
    "\n",
    "              data_result.append(dict_result)\n",
    "\n",
    "              iter += 1\n",
    "                \n",
    "              if iter % 5 == 0: \n",
    "                  print('Completed iter', iter, 'of', total_iter)\n",
    "\n",
    "df_result_homo = pd.DataFrame(data_result)\n",
    "\n",
    "# df_result_homo.to_csv('Output' + str(iter) + '_Jul16_' + '.csv') # uncomment this line to save as csv\n",
    "\n",
    "# df_result_homo"
   ]
  },
  {
   "cell_type": "code",
   "execution_count": null,
   "id": "6b002f1a-3c0a-4d22-bcf3-fe924310e185",
   "metadata": {},
   "outputs": [],
   "source": []
  }
 ],
 "metadata": {
  "colab": {
   "collapsed_sections": [
    "e210a19f",
    "87d327f1"
   ],
   "provenance": []
  },
  "kernelspec": {
   "display_name": "Python 3 (ipykernel)",
   "language": "python",
   "name": "python3"
  },
  "language_info": {
   "codemirror_mode": {
    "name": "ipython",
    "version": 3
   },
   "file_extension": ".py",
   "mimetype": "text/x-python",
   "name": "python",
   "nbconvert_exporter": "python",
   "pygments_lexer": "ipython3",
   "version": "3.10.9"
  }
 },
 "nbformat": 4,
 "nbformat_minor": 5
}
